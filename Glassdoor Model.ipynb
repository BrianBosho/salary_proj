{
 "cells": [
  {
   "cell_type": "code",
   "execution_count": 1,
   "id": "38ffe37f",
   "metadata": {},
   "outputs": [],
   "source": [
    "import pandas as pd\n",
    "import numpy as np\n",
    "import matplotlib.pyplot as plt\n",
    "import seaborn as sns"
   ]
  },
  {
   "cell_type": "code",
   "execution_count": 28,
   "id": "f0db9b84",
   "metadata": {},
   "outputs": [],
   "source": [
    "df = pd.read_csv('500jobs_cleaned.csv')"
   ]
  },
  {
   "cell_type": "code",
   "execution_count": 29,
   "id": "bc409e94",
   "metadata": {},
   "outputs": [
    {
     "data": {
      "text/plain": [
       "Index(['Unnamed: 0.1', 'Unnamed: 0', 'Job Title', 'Salary Estimate',\n",
       "       'Job Description', 'Rating', 'Company Name', 'Location', 'Headquarters',\n",
       "       'Size', 'Founded', 'Type of ownership', 'Industry', 'Sector', 'Revenue',\n",
       "       'Competitors', 'hourly', 'yearly', 'Salary', 'age', 'state'],\n",
       "      dtype='object')"
      ]
     },
     "execution_count": 29,
     "metadata": {},
     "output_type": "execute_result"
    }
   ],
   "source": [
    "df.columns"
   ]
  },
  {
   "cell_type": "code",
   "execution_count": 30,
   "id": "7f2a7903",
   "metadata": {},
   "outputs": [],
   "source": [
    "df['Salary'] = df['Salary'].apply(lambda x: x.split('.')[0])\n",
    "df['Salary'] = df['Salary'].apply(lambda x: x.split(',')[0])\n",
    "df['Salary'] = df['Salary'].astype('int')\n",
    "df['Salary'] = df.apply(lambda x: x.Salary*2000 if x.hourly==1 else x.Salary*1000, axis=1)"
   ]
  },
  {
   "cell_type": "code",
   "execution_count": 31,
   "id": "5685582a",
   "metadata": {},
   "outputs": [
    {
     "data": {
      "text/plain": [
       "-1                                154\n",
       "Information Technology             97\n",
       "Financial Services                 44\n",
       "Healthcare                         36\n",
       "Insurance                          29\n",
       "Retail & Wholesale                 22\n",
       "Manufacturing                      21\n",
       "Telecommunications                 15\n",
       "Pharmaceutical & Biotechnology     15\n",
       "Media & Communication               8\n",
       "Restaurants & Food Service          8\n",
       "Management & Consulting             2\n",
       "Education                           1\n",
       "Name: Sector, dtype: int64"
      ]
     },
     "execution_count": 31,
     "metadata": {},
     "output_type": "execute_result"
    }
   ],
   "source": [
    "df.Sector.value_counts()"
   ]
  },
  {
   "cell_type": "code",
   "execution_count": 32,
   "id": "732f195f",
   "metadata": {},
   "outputs": [
    {
     "data": {
      "text/html": [
       "<div>\n",
       "<style scoped>\n",
       "    .dataframe tbody tr th:only-of-type {\n",
       "        vertical-align: middle;\n",
       "    }\n",
       "\n",
       "    .dataframe tbody tr th {\n",
       "        vertical-align: top;\n",
       "    }\n",
       "\n",
       "    .dataframe thead th {\n",
       "        text-align: right;\n",
       "    }\n",
       "</style>\n",
       "<table border=\"1\" class=\"dataframe\">\n",
       "  <thead>\n",
       "    <tr style=\"text-align: right;\">\n",
       "      <th></th>\n",
       "      <th>Rating</th>\n",
       "      <th>Size</th>\n",
       "      <th>Type of ownership</th>\n",
       "      <th>Industry</th>\n",
       "      <th>Sector</th>\n",
       "      <th>Revenue</th>\n",
       "      <th>yearly</th>\n",
       "      <th>Salary</th>\n",
       "      <th>age</th>\n",
       "      <th>state</th>\n",
       "    </tr>\n",
       "  </thead>\n",
       "  <tbody>\n",
       "    <tr>\n",
       "      <th>0</th>\n",
       "      <td>4.3</td>\n",
       "      <td>-1</td>\n",
       "      <td>-1</td>\n",
       "      <td>-1</td>\n",
       "      <td>-1</td>\n",
       "      <td>-1</td>\n",
       "      <td>0</td>\n",
       "      <td>170000</td>\n",
       "      <td>-1</td>\n",
       "      <td>Remote</td>\n",
       "    </tr>\n",
       "    <tr>\n",
       "      <th>1</th>\n",
       "      <td>4.4</td>\n",
       "      <td>-1</td>\n",
       "      <td>-1</td>\n",
       "      <td>-1</td>\n",
       "      <td>-1</td>\n",
       "      <td>-1</td>\n",
       "      <td>1</td>\n",
       "      <td>80000</td>\n",
       "      <td>-1</td>\n",
       "      <td>CO</td>\n",
       "    </tr>\n",
       "    <tr>\n",
       "      <th>2</th>\n",
       "      <td>-1.0</td>\n",
       "      <td>-1</td>\n",
       "      <td>-1</td>\n",
       "      <td>-1</td>\n",
       "      <td>-1</td>\n",
       "      <td>-1</td>\n",
       "      <td>1</td>\n",
       "      <td>115000</td>\n",
       "      <td>-1</td>\n",
       "      <td>Remote</td>\n",
       "    </tr>\n",
       "    <tr>\n",
       "      <th>3</th>\n",
       "      <td>-1.0</td>\n",
       "      <td>-1</td>\n",
       "      <td>-1</td>\n",
       "      <td>-1</td>\n",
       "      <td>-1</td>\n",
       "      <td>-1</td>\n",
       "      <td>1</td>\n",
       "      <td>100000</td>\n",
       "      <td>-1</td>\n",
       "      <td>Remote</td>\n",
       "    </tr>\n",
       "    <tr>\n",
       "      <th>4</th>\n",
       "      <td>4.6</td>\n",
       "      <td>201 to 500 Employees</td>\n",
       "      <td>Company - Private</td>\n",
       "      <td>Information Technology Support Services</td>\n",
       "      <td>Information Technology</td>\n",
       "      <td>$5 to $10 million (USD)</td>\n",
       "      <td>0</td>\n",
       "      <td>154000</td>\n",
       "      <td>13</td>\n",
       "      <td>Remote</td>\n",
       "    </tr>\n",
       "  </tbody>\n",
       "</table>\n",
       "</div>"
      ],
      "text/plain": [
       "   Rating                  Size  Type of ownership  \\\n",
       "0     4.3                    -1                 -1   \n",
       "1     4.4                    -1                 -1   \n",
       "2    -1.0                    -1                 -1   \n",
       "3    -1.0                    -1                 -1   \n",
       "4     4.6  201 to 500 Employees  Company - Private   \n",
       "\n",
       "                                  Industry                  Sector  \\\n",
       "0                                       -1                      -1   \n",
       "1                                       -1                      -1   \n",
       "2                                       -1                      -1   \n",
       "3                                       -1                      -1   \n",
       "4  Information Technology Support Services  Information Technology   \n",
       "\n",
       "                   Revenue  yearly  Salary  age   state  \n",
       "0                       -1       0  170000   -1  Remote  \n",
       "1                       -1       1   80000   -1      CO  \n",
       "2                       -1       1  115000   -1  Remote  \n",
       "3                       -1       1  100000   -1  Remote  \n",
       "4  $5 to $10 million (USD)       0  154000   13  Remote  "
      ]
     },
     "execution_count": 32,
     "metadata": {},
     "output_type": "execute_result"
    }
   ],
   "source": [
    "df_model = df[['Rating','Size','Type of ownership', 'Industry', 'Sector', 'Revenue','yearly', 'Salary', 'age', 'state']]\n",
    "df_model.head()"
   ]
  },
  {
   "cell_type": "code",
   "execution_count": 33,
   "id": "c46d87d6",
   "metadata": {},
   "outputs": [
    {
     "data": {
      "text/plain": [
       "(298, 10)"
      ]
     },
     "execution_count": 33,
     "metadata": {},
     "output_type": "execute_result"
    }
   ],
   "source": [
    "df_model = df_model.drop(df_model[df_model['Size']=='-1'].index)\n",
    "df_model.shape"
   ]
  },
  {
   "cell_type": "code",
   "execution_count": 34,
   "id": "234febcd",
   "metadata": {},
   "outputs": [
    {
     "data": {
      "text/plain": [
       "(298, 10)"
      ]
     },
     "execution_count": 34,
     "metadata": {},
     "output_type": "execute_result"
    }
   ],
   "source": [
    "df_model.shape"
   ]
  },
  {
   "cell_type": "code",
   "execution_count": 35,
   "id": "f3d6799a",
   "metadata": {},
   "outputs": [
    {
     "data": {
      "text/html": [
       "<div>\n",
       "<style scoped>\n",
       "    .dataframe tbody tr th:only-of-type {\n",
       "        vertical-align: middle;\n",
       "    }\n",
       "\n",
       "    .dataframe tbody tr th {\n",
       "        vertical-align: top;\n",
       "    }\n",
       "\n",
       "    .dataframe thead th {\n",
       "        text-align: right;\n",
       "    }\n",
       "</style>\n",
       "<table border=\"1\" class=\"dataframe\">\n",
       "  <thead>\n",
       "    <tr style=\"text-align: right;\">\n",
       "      <th></th>\n",
       "      <th>Rating</th>\n",
       "      <th>Size</th>\n",
       "      <th>Type of ownership</th>\n",
       "      <th>Industry</th>\n",
       "      <th>Sector</th>\n",
       "      <th>Revenue</th>\n",
       "      <th>yearly</th>\n",
       "      <th>Salary</th>\n",
       "      <th>age</th>\n",
       "      <th>state</th>\n",
       "    </tr>\n",
       "  </thead>\n",
       "  <tbody>\n",
       "    <tr>\n",
       "      <th>4</th>\n",
       "      <td>4.6</td>\n",
       "      <td>201 to 500 Employees</td>\n",
       "      <td>Company - Private</td>\n",
       "      <td>Information Technology Support Services</td>\n",
       "      <td>Information Technology</td>\n",
       "      <td>$5 to $10 million (USD)</td>\n",
       "      <td>0</td>\n",
       "      <td>154000</td>\n",
       "      <td>13</td>\n",
       "      <td>Remote</td>\n",
       "    </tr>\n",
       "    <tr>\n",
       "      <th>6</th>\n",
       "      <td>4.0</td>\n",
       "      <td>1001 to 5000 Employees</td>\n",
       "      <td>Subsidiary or Business Segment</td>\n",
       "      <td>Film Production</td>\n",
       "      <td>Media &amp; Communication</td>\n",
       "      <td>Unknown / Non-Applicable</td>\n",
       "      <td>1</td>\n",
       "      <td>85000</td>\n",
       "      <td>27</td>\n",
       "      <td>NJ</td>\n",
       "    </tr>\n",
       "    <tr>\n",
       "      <th>10</th>\n",
       "      <td>3.6</td>\n",
       "      <td>1001 to 5000 Employees</td>\n",
       "      <td>Company - Public</td>\n",
       "      <td>Insurance Agencies &amp; Brokerages</td>\n",
       "      <td>Insurance</td>\n",
       "      <td>$2 to $5 billion (USD)</td>\n",
       "      <td>1</td>\n",
       "      <td>122000</td>\n",
       "      <td>10</td>\n",
       "      <td>NY</td>\n",
       "    </tr>\n",
       "    <tr>\n",
       "      <th>11</th>\n",
       "      <td>3.9</td>\n",
       "      <td>10000+ Employees</td>\n",
       "      <td>Company - Public</td>\n",
       "      <td>Transportation Equipment Manufacturing</td>\n",
       "      <td>Manufacturing</td>\n",
       "      <td>$10+ billion (USD)</td>\n",
       "      <td>1</td>\n",
       "      <td>95000</td>\n",
       "      <td>65</td>\n",
       "      <td>TX</td>\n",
       "    </tr>\n",
       "    <tr>\n",
       "      <th>12</th>\n",
       "      <td>4.6</td>\n",
       "      <td>1001 to 5000 Employees</td>\n",
       "      <td>Company - Private</td>\n",
       "      <td>Information Technology Support Services</td>\n",
       "      <td>Information Technology</td>\n",
       "      <td>Unknown / Non-Applicable</td>\n",
       "      <td>0</td>\n",
       "      <td>140000</td>\n",
       "      <td>19</td>\n",
       "      <td>Remote</td>\n",
       "    </tr>\n",
       "    <tr>\n",
       "      <th>13</th>\n",
       "      <td>4.3</td>\n",
       "      <td>51 to 200 Employees</td>\n",
       "      <td>Subsidiary or Business Segment</td>\n",
       "      <td>Information Technology Support Services</td>\n",
       "      <td>Information Technology</td>\n",
       "      <td>Unknown / Non-Applicable</td>\n",
       "      <td>1</td>\n",
       "      <td>57000</td>\n",
       "      <td>8</td>\n",
       "      <td>WI</td>\n",
       "    </tr>\n",
       "    <tr>\n",
       "      <th>15</th>\n",
       "      <td>3.7</td>\n",
       "      <td>501 to 1000 Employees</td>\n",
       "      <td>Company - Public</td>\n",
       "      <td>Banking &amp; Lending</td>\n",
       "      <td>Financial Services</td>\n",
       "      <td>Unknown / Non-Applicable</td>\n",
       "      <td>1</td>\n",
       "      <td>80000</td>\n",
       "      <td>9</td>\n",
       "      <td>UT</td>\n",
       "    </tr>\n",
       "    <tr>\n",
       "      <th>17</th>\n",
       "      <td>4.0</td>\n",
       "      <td>10000+ Employees</td>\n",
       "      <td>Company - Public</td>\n",
       "      <td>Investment &amp; Asset Management</td>\n",
       "      <td>Financial Services</td>\n",
       "      <td>$10+ billion (USD)</td>\n",
       "      <td>1</td>\n",
       "      <td>109000</td>\n",
       "      <td>143</td>\n",
       "      <td>IA</td>\n",
       "    </tr>\n",
       "    <tr>\n",
       "      <th>18</th>\n",
       "      <td>4.2</td>\n",
       "      <td>10000+ Employees</td>\n",
       "      <td>College / University</td>\n",
       "      <td>Colleges &amp; Universities</td>\n",
       "      <td>Education</td>\n",
       "      <td>$2 to $5 billion (USD)</td>\n",
       "      <td>1</td>\n",
       "      <td>110000</td>\n",
       "      <td>161</td>\n",
       "      <td>WA</td>\n",
       "    </tr>\n",
       "    <tr>\n",
       "      <th>19</th>\n",
       "      <td>3.7</td>\n",
       "      <td>51 to 200 Employees</td>\n",
       "      <td>Company - Private</td>\n",
       "      <td>Telecommunications Services</td>\n",
       "      <td>Telecommunications</td>\n",
       "      <td>Unknown / Non-Applicable</td>\n",
       "      <td>1</td>\n",
       "      <td>130000</td>\n",
       "      <td>22</td>\n",
       "      <td>CO</td>\n",
       "    </tr>\n",
       "  </tbody>\n",
       "</table>\n",
       "</div>"
      ],
      "text/plain": [
       "    Rating                    Size               Type of ownership  \\\n",
       "4      4.6    201 to 500 Employees               Company - Private   \n",
       "6      4.0  1001 to 5000 Employees  Subsidiary or Business Segment   \n",
       "10     3.6  1001 to 5000 Employees                Company - Public   \n",
       "11     3.9        10000+ Employees                Company - Public   \n",
       "12     4.6  1001 to 5000 Employees               Company - Private   \n",
       "13     4.3     51 to 200 Employees  Subsidiary or Business Segment   \n",
       "15     3.7   501 to 1000 Employees                Company - Public   \n",
       "17     4.0        10000+ Employees                Company - Public   \n",
       "18     4.2        10000+ Employees            College / University   \n",
       "19     3.7     51 to 200 Employees               Company - Private   \n",
       "\n",
       "                                   Industry                  Sector  \\\n",
       "4   Information Technology Support Services  Information Technology   \n",
       "6                           Film Production   Media & Communication   \n",
       "10          Insurance Agencies & Brokerages               Insurance   \n",
       "11   Transportation Equipment Manufacturing           Manufacturing   \n",
       "12  Information Technology Support Services  Information Technology   \n",
       "13  Information Technology Support Services  Information Technology   \n",
       "15                        Banking & Lending      Financial Services   \n",
       "17            Investment & Asset Management      Financial Services   \n",
       "18                  Colleges & Universities               Education   \n",
       "19              Telecommunications Services      Telecommunications   \n",
       "\n",
       "                     Revenue  yearly  Salary  age   state  \n",
       "4    $5 to $10 million (USD)       0  154000   13  Remote  \n",
       "6   Unknown / Non-Applicable       1   85000   27      NJ  \n",
       "10    $2 to $5 billion (USD)       1  122000   10      NY  \n",
       "11        $10+ billion (USD)       1   95000   65      TX  \n",
       "12  Unknown / Non-Applicable       0  140000   19  Remote  \n",
       "13  Unknown / Non-Applicable       1   57000    8      WI  \n",
       "15  Unknown / Non-Applicable       1   80000    9      UT  \n",
       "17        $10+ billion (USD)       1  109000  143      IA  \n",
       "18    $2 to $5 billion (USD)       1  110000  161      WA  \n",
       "19  Unknown / Non-Applicable       1  130000   22      CO  "
      ]
     },
     "execution_count": 35,
     "metadata": {},
     "output_type": "execute_result"
    }
   ],
   "source": [
    "df_model.head(10)"
   ]
  },
  {
   "cell_type": "code",
   "execution_count": 36,
   "id": "0ef00523",
   "metadata": {},
   "outputs": [
    {
     "data": {
      "text/plain": [
       "Index(['Rating', 'Size', 'Type of ownership', 'Industry', 'Sector', 'Revenue',\n",
       "       'yearly', 'Salary', 'age', 'state'],\n",
       "      dtype='object')"
      ]
     },
     "execution_count": 36,
     "metadata": {},
     "output_type": "execute_result"
    }
   ],
   "source": [
    "df_model.columns"
   ]
  },
  {
   "cell_type": "code",
   "execution_count": 37,
   "id": "fc525ecc",
   "metadata": {},
   "outputs": [],
   "source": [
    "# df_model['Salary'] = pd.to_numeric(df_model['Salary'])\n",
    "# salary = df['Salary Estimate'].apply(lambda x: x.split('/')[0])\n"
   ]
  },
  {
   "cell_type": "code",
   "execution_count": 38,
   "id": "4abdb208",
   "metadata": {},
   "outputs": [
    {
     "data": {
      "text/plain": [
       "dtype('int64')"
      ]
     },
     "execution_count": 38,
     "metadata": {},
     "output_type": "execute_result"
    }
   ],
   "source": [
    "df_model.Salary.dtypes"
   ]
  },
  {
   "cell_type": "markdown",
   "id": "cfea2ef1",
   "metadata": {},
   "source": [
    "df_model.rating.dtypes"
   ]
  },
  {
   "cell_type": "code",
   "execution_count": 43,
   "id": "1aeb8bc9",
   "metadata": {},
   "outputs": [
    {
     "data": {
      "text/plain": [
       "dtype('float64')"
      ]
     },
     "execution_count": 43,
     "metadata": {},
     "output_type": "execute_result"
    }
   ],
   "source": [
    "df_model.Rating.dtypes"
   ]
  },
  {
   "cell_type": "code",
   "execution_count": 39,
   "id": "a2bc8ed2",
   "metadata": {},
   "outputs": [
    {
     "data": {
      "text/plain": [
       "(298, 76)"
      ]
     },
     "execution_count": 39,
     "metadata": {},
     "output_type": "execute_result"
    }
   ],
   "source": [
    "df_dum = pd.get_dummies(df_model)\n",
    "df_dum.shape"
   ]
  },
  {
   "cell_type": "code",
   "execution_count": 40,
   "id": "3bcf31ad",
   "metadata": {},
   "outputs": [],
   "source": [
    "from sklearn.model_selection import train_test_split"
   ]
  },
  {
   "cell_type": "code",
   "execution_count": 44,
   "id": "87b113aa",
   "metadata": {},
   "outputs": [],
   "source": [
    "x = df_dum.drop('Salary', axis =1)\n",
    "y = df_dum.Salary.values"
   ]
  },
  {
   "cell_type": "markdown",
   "id": "6f732661",
   "metadata": {},
   "source": [
    "# Statsmodels linear regression\n"
   ]
  },
  {
   "cell_type": "code",
   "execution_count": 46,
   "id": "63a24833",
   "metadata": {},
   "outputs": [],
   "source": [
    "import statsmodels.api as sm\n"
   ]
  },
  {
   "cell_type": "code",
   "execution_count": 48,
   "id": "f2b2cb08",
   "metadata": {
    "scrolled": true
   },
   "outputs": [
    {
     "name": "stdout",
     "output_type": "stream",
     "text": [
      "                            OLS Regression Results                            \n",
      "==============================================================================\n",
      "Dep. Variable:                      y   R-squared:                       0.964\n",
      "Model:                            OLS   Adj. R-squared:                  0.958\n",
      "Method:                 Least Squares   F-statistic:                     185.9\n",
      "Date:                Mon, 01 Aug 2022   Prob (F-statistic):          1.08e-165\n",
      "Time:                        08:34:45   Log-Likelihood:                -2970.2\n",
      "No. Observations:                 298   AIC:                             6016.\n",
      "Df Residuals:                     260   BIC:                             6157.\n",
      "Df Model:                          37                                         \n",
      "Covariance Type:            nonrobust                                         \n",
      "=====================================================================================================================\n",
      "                                                        coef    std err          t      P>|t|      [0.025      0.975]\n",
      "---------------------------------------------------------------------------------------------------------------------\n",
      "const                                              4.262e+04    993.985     42.880      0.000    4.07e+04    4.46e+04\n",
      "Rating                                             4353.6076    514.523      8.461      0.000    3340.446    5366.770\n",
      "yearly                                             5208.1673   1593.371      3.269      0.001    2070.612    8345.723\n",
      "age                                                  97.2009     18.687      5.202      0.000      60.404     133.998\n",
      "Size_1 to 50 Employees                            -1.757e+04   1682.888    -10.438      0.000   -2.09e+04   -1.43e+04\n",
      "Size_10000+ Employees                              7507.5623   1528.925      4.910      0.000    4496.910    1.05e+04\n",
      "Size_1001 to 5000 Employees                        2.446e+04   2052.372     11.916      0.000    2.04e+04    2.85e+04\n",
      "Size_201 to 500 Employees                         -1641.2610   2363.202     -0.695      0.488   -6294.713    3012.191\n",
      "Size_5001 to 10000 Employees                       1.718e+04   1755.443      9.789      0.000    1.37e+04    2.06e+04\n",
      "Size_501 to 1000 Employees                         1.038e+04    643.488     16.138      0.000    9117.681    1.17e+04\n",
      "Size_51 to 200 Employees                           2295.4476   1127.727      2.035      0.043      74.807    4516.088\n",
      "Type of ownership_College / University             8395.6501   1373.362      6.113      0.000    5691.321    1.11e+04\n",
      "Type of ownership_Company - Private                2.061e+04   1806.165     11.412      0.000    1.71e+04    2.42e+04\n",
      "Type of ownership_Company - Public                 2.023e+04   1173.245     17.243      0.000    1.79e+04    2.25e+04\n",
      "Type of ownership_Hospital                        -2613.2063   2163.358     -1.208      0.228   -6873.139    1646.726\n",
      "Type of ownership_Nonprofit Organization          -6954.1196   4876.820     -1.426      0.155   -1.66e+04    2648.973\n",
      "Type of ownership_Subsidiary or Business Segment   2950.5742   1464.985      2.014      0.045      65.828    5835.321\n",
      "Industry_Accounting & Tax                         -1.321e+04   1680.994     -7.856      0.000   -1.65e+04   -9895.516\n",
      "Industry_Banking & Lending                         1.038e+04    643.488     16.138      0.000    9117.681    1.17e+04\n",
      "Industry_Biotech & Pharmaceuticals                 7355.6778    665.651     11.050      0.000    6044.924    8666.431\n",
      "Industry_Business Consulting                      -2926.0547   1841.511     -1.589      0.113   -6552.229     700.120\n",
      "Industry_Cable, Internet & Telephone Providers     2.136e+04   1620.810     13.181      0.000    1.82e+04    2.46e+04\n",
      "Industry_Colleges & Universities                   8395.6501   1373.362      6.113      0.000    5691.321    1.11e+04\n",
      "Industry_Consumer Electronics & Appliances Stores -7296.7316   1157.270     -6.305      0.000   -9575.548   -5017.916\n",
      "Industry_Consumer Product Manufacturing            2393.1329   1331.598      1.797      0.073    -228.957    5015.223\n",
      "Industry_Department, Clothing & Shoe Stores       -8470.4387   2417.403     -3.504      0.001   -1.32e+04   -3710.259\n",
      "Industry_Enterprise Software & Network Solutions  -7371.3674   1298.602     -5.676      0.000   -9928.484   -4814.251\n",
      "Industry_Film Production                          -4556.5876   1714.158     -2.658      0.008   -7931.987   -1181.189\n",
      "Industry_Health Care Services & Hospitals         -1093.2793    885.977     -1.234      0.218   -2837.883     651.324\n",
      "Industry_Home Furniture & Housewares Stores        9432.3109   1228.097      7.680      0.000    7014.028    1.19e+04\n",
      "Industry_Information Technology Support Services   1.273e+04   1406.843      9.052      0.000    9964.260    1.55e+04\n",
      "Industry_Insurance Agencies & Brokerages           6060.1712   2916.003      2.078      0.039     318.182    1.18e+04\n",
      "Industry_Insurance Carriers                       -7196.8819   1853.121     -3.884      0.000   -1.08e+04   -3547.846\n",
      "Industry_Internet & Web Services                   1.459e+04   1404.078     10.389      0.000    1.18e+04    1.74e+04\n",
      "Industry_Investment & Asset Management            -3572.1387   1655.961     -2.157      0.032   -6832.942    -311.335\n",
      "Industry_Restaurants & Cafes                      -1.326e+04   1214.199    -10.920      0.000   -1.57e+04   -1.09e+04\n",
      "Industry_Telecommunications Services               1.405e+04   2056.258      6.834      0.000       1e+04    1.81e+04\n",
      "Industry_Transportation Equipment Manufacturing   -2886.9848   1354.168     -2.132      0.034   -5553.517    -220.452\n",
      "Industry_Video Game Publishing                     7696.1149   2484.040      3.098      0.002    2804.718    1.26e+04\n",
      "Sector_Education                                   8395.6501   1373.362      6.113      0.000    5691.321    1.11e+04\n",
      "Sector_Financial Services                         -6392.9590   1055.342     -6.058      0.000   -8471.064   -4314.854\n",
      "Sector_Healthcare                                 -1093.2793    885.977     -1.234      0.218   -2837.883     651.324\n",
      "Sector_Information Technology                      1.995e+04   1072.049     18.609      0.000    1.78e+04    2.21e+04\n",
      "Sector_Insurance                                  -1136.7107   1693.813     -0.671      0.503   -4472.049    2198.628\n",
      "Sector_Management & Consulting                    -2926.0547   1841.511     -1.589      0.113   -6552.229     700.120\n",
      "Sector_Manufacturing                               -493.8519   1038.315     -0.476      0.635   -2538.429    1550.725\n",
      "Sector_Media & Communication                       3139.5273   1528.169      2.054      0.041     130.365    6148.690\n",
      "Sector_Pharmaceutical & Biotechnology              7355.6778    665.651     11.050      0.000    6044.924    8666.431\n",
      "Sector_Restaurants & Food Service                 -1.326e+04   1214.199    -10.920      0.000   -1.57e+04   -1.09e+04\n",
      "Sector_Retail & Wholesale                         -6334.8595   1390.248     -4.557      0.000   -9072.439   -3597.280\n",
      "Sector_Telecommunications                          3.542e+04   1183.008     29.938      0.000    3.31e+04    3.77e+04\n",
      "Revenue_$1 to $2 billion (USD)                     8078.8377   1194.974      6.761      0.000    5725.779    1.04e+04\n",
      "Revenue_$1 to $5 million (USD)                     2.244e+04   1157.487     19.383      0.000    2.02e+04    2.47e+04\n",
      "Revenue_$10+ billion (USD)                         8453.2950   1611.102      5.247      0.000    5280.826    1.16e+04\n",
      "Revenue_$100 to $500 million (USD)                  -66.3714   2489.058     -0.027      0.979   -4967.650    4834.907\n",
      "Revenue_$2 to $5 billion (USD)                    -2455.0080   1285.830     -1.909      0.057   -4986.974      76.958\n",
      "Revenue_$25 to $50 million (USD)                  -2.719e+04   2568.176    -10.586      0.000   -3.22e+04   -2.21e+04\n",
      "Revenue_$5 to $10 billion (USD)                    9529.0799   3522.409      2.705      0.007    2592.999    1.65e+04\n",
      "Revenue_$5 to $10 million (USD)                    1.817e+04   3150.128      5.769      0.000     1.2e+04    2.44e+04\n",
      "Revenue_$50 to $100 million (USD)                   3.12e+04   2125.180     14.679      0.000     2.7e+04    3.54e+04\n",
      "Revenue_$500 million to $1 billion (USD)          -3028.4525   1623.185     -1.866      0.063   -6224.715     167.810\n",
      "Revenue_Unknown / Non-Applicable                  -2.251e+04   1426.072    -15.783      0.000   -2.53e+04   -1.97e+04\n",
      "state_ CA                                          1.497e+04   3000.068      4.991      0.000    9066.502    2.09e+04\n",
      "state_ CO                                          1.405e+04   2056.258      6.834      0.000       1e+04    1.81e+04\n",
      "state_ FL                                         -1.821e+04   1879.839     -9.685      0.000   -2.19e+04   -1.45e+04\n",
      "state_ GA                                          2060.9434   1034.167      1.993      0.047      24.534    4097.353\n",
      "state_ IA                                          3629.8826   3509.898      1.034      0.302   -3281.564    1.05e+04\n",
      "state_ IN                                          7355.6778    665.651     11.050      0.000    6044.924    8666.431\n",
      "state_ NJ                                          1.365e+04   2869.635      4.756      0.000    7998.683    1.93e+04\n",
      "state_ NY                                          1.037e+04   1700.484      6.098      0.000    7021.353    1.37e+04\n",
      "state_ TX                                         -8937.3480   1183.912     -7.549      0.000   -1.13e+04   -6606.071\n",
      "state_ UT                                          3088.0607    922.299      3.348      0.001    1271.934    4904.187\n",
      "state_ WA                                         -2003.7815   2197.838     -0.912      0.363   -6331.610    2324.047\n",
      "state_ WI                                         -2.575e+04   1320.597    -19.499      0.000   -2.84e+04   -2.32e+04\n",
      "state_Maryland                                     8078.8377   1194.974      6.761      0.000    5725.779    1.04e+04\n",
      "state_Remote                                       2.026e+04   1490.306     13.594      0.000    1.73e+04    2.32e+04\n",
      "==============================================================================\n",
      "Omnibus:                       51.992   Durbin-Watson:                   2.323\n",
      "Prob(Omnibus):                  0.000   Jarque-Bera (JB):              551.574\n",
      "Skew:                           0.200   Prob(JB):                    1.69e-120\n",
      "Kurtosis:                       9.653   Cond. No.                     8.94e+16\n",
      "==============================================================================\n",
      "\n",
      "Notes:\n",
      "[1] Standard Errors assume that the covariance matrix of the errors is correctly specified.\n",
      "[2] The smallest eigenvalue is 1.19e-28. This might indicate that there are\n",
      "strong multicollinearity problems or that the design matrix is singular.\n"
     ]
    }
   ],
   "source": [
    "X = sm.add_constant(x)\n",
    "model =sm.OLS(y, X)\n",
    "results = model.fit()\n",
    "print(results.summary())"
   ]
  },
  {
   "cell_type": "markdown",
   "id": "234d3bbe",
   "metadata": {},
   "source": [
    "# sklearn linear model"
   ]
  },
  {
   "cell_type": "code",
   "execution_count": null,
   "id": "eb038e71",
   "metadata": {},
   "outputs": [],
   "source": []
  }
 ],
 "metadata": {
  "kernelspec": {
   "display_name": "Python [conda env:py3-TF]",
   "language": "python",
   "name": "conda-env-py3-TF-py"
  },
  "language_info": {
   "codemirror_mode": {
    "name": "ipython",
    "version": 3
   },
   "file_extension": ".py",
   "mimetype": "text/x-python",
   "name": "python",
   "nbconvert_exporter": "python",
   "pygments_lexer": "ipython3",
   "version": "3.8.13"
  }
 },
 "nbformat": 4,
 "nbformat_minor": 5
}
